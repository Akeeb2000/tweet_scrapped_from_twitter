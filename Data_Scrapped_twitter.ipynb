{
 "cells": [
  {
   "cell_type": "code",
   "execution_count": null,
   "id": "6d6568e3",
   "metadata": {},
   "outputs": [],
   "source": [
    "import pandas as pd\n",
    "import snscrape.modules.twitter as sntwitter"
   ]
  },
  {
   "cell_type": "code",
   "execution_count": null,
   "id": "273af6da",
   "metadata": {},
   "outputs": [],
   "source": [
    "query = \"(from:elonmusk) until:2020-01-01 since:2010-01-01\""
   ]
  },
  {
   "cell_type": "code",
   "execution_count": null,
   "id": "ad13e656",
   "metadata": {},
   "outputs": [],
   "source": [
    "tweets = []\n",
    "limits = 5000"
   ]
  },
  {
   "cell_type": "code",
   "execution_count": null,
   "id": "4fdfed21",
   "metadata": {},
   "outputs": [],
   "source": [
    "for tweet in sntwitter.TwitterSearchScraper(query).get_items():\n",
    "    #print (vars(tweet))\n",
    "    #break\n",
    "    if len(tweets)==limits:\n",
    "        break\n",
    "    else:\n",
    "        tweets.append([tweet.date, tweet.user.username, tweet.content])"
   ]
  },
  {
   "cell_type": "code",
   "execution_count": null,
   "id": "e47dc708",
   "metadata": {},
   "outputs": [],
   "source": [
    "Elon = pd.DataFrame(tweets, columns=['Date', 'User', 'Tweet'])"
   ]
  },
  {
   "cell_type": "code",
   "execution_count": null,
   "id": "8e7b81ac",
   "metadata": {},
   "outputs": [],
   "source": [
    "print (Elon)\n"
   ]
  },
  {
   "cell_type": "code",
   "execution_count": null,
   "id": "3bcf602e",
   "metadata": {},
   "outputs": [],
   "source": [
    "Elon.head()"
   ]
  },
  {
   "cell_type": "code",
   "execution_count": null,
   "id": "fb376790",
   "metadata": {},
   "outputs": [],
   "source": [
    "import numpy as np"
   ]
  },
  {
   "cell_type": "code",
   "execution_count": null,
   "id": "a75be42c",
   "metadata": {},
   "outputs": [],
   "source": [
    "elon_tweet = Elon['Tweet']"
   ]
  },
  {
   "cell_type": "code",
   "execution_count": null,
   "id": "309b6283",
   "metadata": {},
   "outputs": [],
   "source": [
    "all_sentences = []\n",
    "\n",
    "for word in elon_tweet:\n",
    "    all_sentences.append(word)\n",
    "\n",
    "all_sentences\n",
    "#df1 = df.to_string()\n",
    "\n",
    "#df_split = df1.split()\n",
    "\n",
    "#df_split\n",
    "lines = list()\n",
    "for line in all_sentences:    \n",
    "    words = line.split()\n",
    "    for w in words: \n",
    "       lines.append(w)\n",
    "\n",
    "\n",
    "print(lines)"
   ]
  },
  {
   "cell_type": "code",
   "execution_count": null,
   "id": "5c80a5e5",
   "metadata": {},
   "outputs": [],
   "source": []
  },
  {
   "cell_type": "code",
   "execution_count": null,
   "id": "3e6907eb",
   "metadata": {},
   "outputs": [],
   "source": [
    "import re"
   ]
  },
  {
   "cell_type": "code",
   "execution_count": null,
   "id": "9f47d350",
   "metadata": {},
   "outputs": [],
   "source": [
    "lines = [re.sub(r'[^A-Za-z0-9]+', '', x) for x in lines]\n",
    "\n",
    "lines\n",
    "\n",
    "lines2 = []\n",
    "\n",
    "for word in lines:\n",
    "    if word != '':\n",
    "        lines2.append(word)"
   ]
  },
  {
   "cell_type": "code",
   "execution_count": null,
   "id": "6076c1b4",
   "metadata": {},
   "outputs": [],
   "source": [
    "import spacy"
   ]
  },
  {
   "cell_type": "code",
   "execution_count": null,
   "id": "26c2f662",
   "metadata": {},
   "outputs": [],
   "source": [
    "import nltk\n",
    "nltk.download('punkt')\n",
    "nltk.download('wordnet')\n",
    "from nltk import sent_tokenize, word_tokenize\n",
    "from nltk.stem.snowball import SnowballStemmer\n",
    "from nltk.stem.wordnet import WordNetLemmatizer\n",
    "from nltk.corpus import stopwords"
   ]
  },
  {
   "cell_type": "code",
   "execution_count": null,
   "id": "299c6a9e",
   "metadata": {},
   "outputs": [],
   "source": [
    "\n",
    "from nltk.corpus import stopwords"
   ]
  },
  {
   "cell_type": "code",
   "execution_count": null,
   "id": "c19f31d9",
   "metadata": {},
   "outputs": [],
   "source": [
    "nltk.download('stopwords')"
   ]
  },
  {
   "cell_type": "code",
   "execution_count": null,
   "id": "ad4653a3",
   "metadata": {},
   "outputs": [],
   "source": [
    "stop_words = set(stopwords.words('english'))\n",
    "words = [ w for w in lines2 if not w in stop_words]"
   ]
  },
  {
   "cell_type": "code",
   "execution_count": null,
   "id": "13fa860a",
   "metadata": {},
   "outputs": [],
   "source": [
    "print (words)\n"
   ]
  },
  {
   "cell_type": "code",
   "execution_count": null,
   "id": "18ef96d3",
   "metadata": {},
   "outputs": [],
   "source": [
    "#This is stemming the words to their root\n",
    "from nltk.stem.snowball import SnowballStemmer\n",
    "\n",
    "# The Snowball Stemmer requires that you pass a language parameter\n",
    "s_stemmer = SnowballStemmer(language='english')\n",
    "\n",
    "stem = []\n",
    "for word in lines2:\n",
    "    stem.append(s_stemmer.stem(word))\n",
    "    \n",
    "stem"
   ]
  },
  {
   "cell_type": "code",
   "execution_count": null,
   "id": "4f801874",
   "metadata": {},
   "outputs": [],
   "source": [
    "pd.Series(\" \".join(stem).split()).value_counts()[:30]"
   ]
  },
  {
   "cell_type": "code",
   "execution_count": null,
   "id": "c3a32706",
   "metadata": {},
   "outputs": [],
   "source": [
    "otheri_stopwords =['to','the','a','is','of','amp','in','for','it','will','be','that','on','but','this','i','with','you',\n",
    "                 'we','so','are','not','at','have','as','by']"
   ]
  },
  {
   "cell_type": "code",
   "execution_count": null,
   "id": "10974008",
   "metadata": {},
   "outputs": [],
   "source": [
    "words = [ w for w in lines2 if not w in otheri_stopwords]"
   ]
  },
  {
   "cell_type": "code",
   "execution_count": null,
   "id": "1bfd9a3f",
   "metadata": {},
   "outputs": [],
   "source": [
    "print(words)"
   ]
  },
  {
   "cell_type": "code",
   "execution_count": null,
   "id": "c2ca9316",
   "metadata": {},
   "outputs": [],
   "source": [
    "#This is stemming the words to their root\n",
    "from nltk.stem.snowball import SnowballStemmer\n",
    "\n",
    "# The Snowball Stemmer requires that you pass a language parameter\n",
    "s_stemmer = SnowballStemmer(language='english')\n",
    "\n",
    "stem = []\n",
    "for word in words:\n",
    "    stem.append(s_stemmer.stem(word))\n",
    "    \n",
    "stem"
   ]
  },
  {
   "cell_type": "code",
   "execution_count": null,
   "id": "a94ea799",
   "metadata": {},
   "outputs": [],
   "source": [
    "pd.Series(\" \".join(stem).split()).value_counts()[:30]"
   ]
  },
  {
   "cell_type": "code",
   "execution_count": null,
   "id": "5a96bb70",
   "metadata": {},
   "outputs": [],
   "source": [
    "othe_stopwords =['i','it','yes','no','all','or','if','your','about','like','just','do','was','from','year','work','good','an',\n",
    "                 'need','more','would','that','at']"
   ]
  },
  {
   "cell_type": "code",
   "execution_count": null,
   "id": "7b13ded6",
   "metadata": {},
   "outputs": [],
   "source": [
    "wordz = [ w for w in words if not w in othe_stopwords]"
   ]
  },
  {
   "cell_type": "code",
   "execution_count": null,
   "id": "31a77a65",
   "metadata": {},
   "outputs": [],
   "source": [
    "print(wordz)"
   ]
  },
  {
   "cell_type": "code",
   "execution_count": null,
   "id": "df08ee23",
   "metadata": {},
   "outputs": [],
   "source": [
    "from nltk.stem.snowball import SnowballStemmer\n",
    "\n",
    "# The Snowball Stemmer requires that you pass a language parameter\n",
    "s_stemmer = SnowballStemmer(language='english')\n",
    "\n",
    "stem = []\n",
    "for word in wordz:\n",
    "    stem.append(s_stemmer.stem(word))\n",
    "    \n",
    "stem"
   ]
  },
  {
   "cell_type": "code",
   "execution_count": null,
   "id": "0cdf1641",
   "metadata": {},
   "outputs": [],
   "source": [
    "pd.Series(\" \".join(stem).split()).value_counts()[:30]"
   ]
  },
  {
   "cell_type": "code",
   "execution_count": null,
   "id": "8fea19af",
   "metadata": {},
   "outputs": [],
   "source": [
    "df = pd.DataFrame(stem)\n",
    "df = df[0].value_counts()"
   ]
  },
  {
   "cell_type": "code",
   "execution_count": null,
   "id": "88a084b9",
   "metadata": {},
   "outputs": [],
   "source": [
    "#df = df[0].value_counts()\n",
    "#df\n",
    "#df['freq'] = df.groupby(0)[0].transform('count')\n",
    "#df['freq'] = df.groupby(0)[0].transform('count')\n",
    "#df.sort_values(by = ('freq'), ascending=False)\n"
   ]
  },
  {
   "cell_type": "code",
   "execution_count": null,
   "id": "5b4fe661",
   "metadata": {},
   "outputs": [],
   "source": [
    "#This will give frequencies of our words\n",
    "from nltk.probability import FreqDist\n",
    "\n",
    "freqdoctor = FreqDist()\n",
    "\n",
    "for words in df:\n",
    "    freqdoctor[words] += 1\n",
    "\n",
    "freqdoctor"
   ]
  },
  {
   "cell_type": "code",
   "execution_count": null,
   "id": "9f6b03df",
   "metadata": {},
   "outputs": [],
   "source": [
    "import matplotlib.pyplot as plt; plt.rcdefaults()\n",
    "import numpy as np\n",
    "import matplotlib.pyplot as plt\n",
    "import seaborn as sns"
   ]
  },
  {
   "cell_type": "code",
   "execution_count": null,
   "id": "18d2f9bc",
   "metadata": {},
   "outputs": [],
   "source": [
    "df = df[:20,]\n",
    "plt.figure(figsize=(10,5))\n",
    "sns.barplot(df.values, df.index, alpha=0.8)\n",
    "plt.title('Top Words Overall')\n",
    "plt.ylabel('Word from Tweet', fontsize=12)\n",
    "plt.xlabel('Count of Words', fontsize=12)\n",
    "plt.show()"
   ]
  },
  {
   "cell_type": "code",
   "execution_count": null,
   "id": "00cb35d9",
   "metadata": {},
   "outputs": [],
   "source": []
  },
  {
   "cell_type": "code",
   "execution_count": null,
   "id": "990e4f2d",
   "metadata": {},
   "outputs": [],
   "source": []
  },
  {
   "cell_type": "code",
   "execution_count": null,
   "id": "34d860a2",
   "metadata": {},
   "outputs": [],
   "source": []
  },
  {
   "cell_type": "code",
   "execution_count": null,
   "id": "d35e9672",
   "metadata": {},
   "outputs": [],
   "source": []
  },
  {
   "cell_type": "code",
   "execution_count": null,
   "id": "8dee7524",
   "metadata": {},
   "outputs": [],
   "source": []
  }
 ],
 "metadata": {
  "kernelspec": {
   "display_name": "Python 3",
   "language": "python",
   "name": "python3"
  },
  "language_info": {
   "codemirror_mode": {
    "name": "ipython",
    "version": 3
   },
   "file_extension": ".py",
   "mimetype": "text/x-python",
   "name": "python",
   "nbconvert_exporter": "python",
   "pygments_lexer": "ipython3",
   "version": "3.8.8"
  }
 },
 "nbformat": 4,
 "nbformat_minor": 5
}
